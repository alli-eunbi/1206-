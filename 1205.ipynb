{
 "cells": [
  {
   "cell_type": "markdown",
   "metadata": {},
   "source": [
    "import numpy as np\n",
    "import pandas as pd\n",
    "\n",
    "df = pd.DataFrame({\n",
    "    'key': ['A', 'B', 'C', 'A', 'B', 'C'],\n",
    "    'data1': [0, 1, 2, 3, 4, 5],\n",
    "    'data2': [4, 4, 6, 0, 6, 1]\n",
    "})\n",
    "print(\"DataFrame:\")\n",
    "print(df, \"\\n\")\n",
    "\n",
    "# groupby()로 묶은 데이터에 filter를 적용해봅시다.\n",
    "# key별 data2의 평균이 3이 넘는 인덱스만 출력해봅시다.\n",
    "\n",
    "def filter_by_mean(x):\n",
    "    return x['data2'].mean() > 3\n",
    "\n",
    "filtering = df.groupby('key').filter(filter_by_mean)\n",
    "print(\"filtering : \", filtering)\n",
    "\n",
    "\n",
    "\n",
    "# groupby()로 묶은 데이터에 apply도 적용해봅시다.\n",
    "# 람다식을 이용해 최댓값에서 최솟값을 뺀 값을 적용해봅시다.\n",
    "\n",
    "applying = df.groupby('key').apply(lambda x : x.max()-x.min())\n",
    "print(\"applying : \", applying)\n",
    "\n"
   ]
  },
  {
   "cell_type": "code",
   "execution_count": null,
   "metadata": {},
   "outputs": [],
   "source": []
  }
 ],
 "metadata": {
  "kernelspec": {
   "display_name": "Python 2.7.16 64-bit",
   "name": "python2716jvsc74a57bd0767d51c1340bd893661ea55ea3124f6de3c7a262a8b4abca0554b478b1e2ff90"
  },
  "language_info": {
   "name": "python",
   "version": ""
  },
  "metadata": {
   "interpreter": {
    "hash": "767d51c1340bd893661ea55ea3124f6de3c7a262a8b4abca0554b478b1e2ff90"
   }
  },
  "orig_nbformat": 2
 },
 "nbformat": 4,
 "nbformat_minor": 2
}